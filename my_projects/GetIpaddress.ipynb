{
 "cells": [
  {
   "cell_type": "code",
   "execution_count": 1,
   "id": "786e9e4e-8fe8-4229-93b0-d5ad5c65d0d2",
   "metadata": {},
   "outputs": [
    {
     "name": "stdout",
     "output_type": "stream",
     "text": [
      "My public IP address is: 18.117.253.201\n"
     ]
    }
   ],
   "source": [
    "from requests import get\n",
    "ip = get('https://api.ipify.org').text\n",
    "print('My public IP address is: {}'.format(ip))"
   ]
  },
  {
   "cell_type": "code",
   "execution_count": null,
   "id": "1e181315-d5f1-4771-9a46-9cdd6c25b28f",
   "metadata": {},
   "outputs": [],
   "source": []
  }
 ],
 "metadata": {
  "kernelspec": {
   "display_name": "Python 3",
   "language": "python",
   "name": "python3"
  },
  "language_info": {
   "codemirror_mode": {
    "name": "ipython",
    "version": 3
   },
   "file_extension": ".py",
   "mimetype": "text/x-python",
   "name": "python",
   "nbconvert_exporter": "python",
   "pygments_lexer": "ipython3",
   "version": "3.9.1"
  }
 },
 "nbformat": 4,
 "nbformat_minor": 5
}
