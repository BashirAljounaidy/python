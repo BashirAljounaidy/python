{
 "cells": [
  {
   "cell_type": "code",
   "execution_count": 1,
   "id": "3354e3d0",
   "metadata": {},
   "outputs": [
    {
     "name": "stdout",
     "output_type": "stream",
     "text": [
      "[main 61ec8e1] Another Commit\n",
      " Committer: EC2 Default User <ec2-user@ip-172-31-8-226.us-east-2.compute.internal>\n",
      "Your name and email address were configured automatically based\n",
      "on your username and hostname. Please check that they are accurate.\n",
      "You can suppress this message by setting them explicitly. Run the\n",
      "following command and follow the instructions in your editor to edit\n",
      "your configuration file:\n",
      "\n",
      "    git config --global --edit\n",
      "\n",
      "After doing this, you may fix the identity used for this commit with:\n",
      "\n",
      "    git commit --amend --reset-author\n",
      "\n",
      " 6 files changed, 497 insertions(+), 233 deletions(-)\n",
      " create mode 100644 .ipynb_checkpoints/access_db-checkpoint.ipynb\n",
      " create mode 100644 access_db.ipynb\n"
     ]
    }
   ],
   "source": [
    "!git add .\n",
    "!git commit -m \"Another Commit\""
   ]
  },
  {
   "cell_type": "code",
   "execution_count": 2,
   "id": "f9d569b9",
   "metadata": {},
   "outputs": [
    {
     "name": "stdout",
     "output_type": "stream",
     "text": [
      "hint: Waiting for your editor to close the file... \u001b7\u001b[?47h\u001b[?1h\u001b=\u001b[?2004h\u001b[1;24r\u001b[m\u001b[H\u001b[2J\u001b[24;1H\"~/.gitconfig\" 5L, 190C\u001b[1;1H# This is Git's per-user configuration file.\n",
      "[user]\n",
      "# Please adapt and uncomment the following lines:\n",
      "#\u001b[7Cname = EC2 Default User\n",
      "#\u001b[7Cemail = ec2-user@ip-172-31-8-226.us-east-2.compute.internal\n",
      "\u001b[1m\u001b[34m~                                                                               \u001b[7;1H~                                                                               \u001b[8;1H~                                                                               \u001b[9;1H~                                                                               \u001b[10;1H~                                                                               \u001b[11;1H~                                                                               \u001b[12;1H~                                                                               \u001b[13;1H~                                                                               \u001b[14;1H~                                                                               \u001b[15;1H~                                                                               \u001b[16;1H~                                                                               \u001b[17;1H~                                                                               \u001b[18;1H~                                                                               \u001b[19;1H~                                                                               \u001b[20;1H~                                                                               \u001b[21;1H~                                                                               \u001b[22;1H~                                                                               \u001b[23;1H~                                                                               \u001b[1;1H\u001b[m\u001b[24;1HType  :quit<Enter>  to exit Vim\u0007\u001b[1;1H"
     ]
    }
   ],
   "source": [
    "!git config --global --edit"
   ]
  },
  {
   "cell_type": "code",
   "execution_count": null,
   "id": "8b5257cc",
   "metadata": {},
   "outputs": [],
   "source": []
  }
 ],
 "metadata": {
  "kernelspec": {
   "display_name": "Python 3",
   "language": "python",
   "name": "python3"
  },
  "language_info": {
   "codemirror_mode": {
    "name": "ipython",
    "version": 3
   },
   "file_extension": ".py",
   "mimetype": "text/x-python",
   "name": "python",
   "nbconvert_exporter": "python",
   "pygments_lexer": "ipython3",
   "version": "3.8.10"
  }
 },
 "nbformat": 4,
 "nbformat_minor": 5
}
