{
 "cells": [
  {
   "cell_type": "code",
   "execution_count": null,
   "metadata": {},
   "outputs": [],
   "source": [
    "#yahoo\n",
    "import pandas as pd\n",
    "import numpy as np\n",
    "import matplotlib.pyplot as plt\n",
    "import seaborn as sns\n",
    "#set pd for 2 decimal float \n",
    "pd.set_option('display.float_format', lambda x: '%.2f' % x)\n",
    "#read Data form CSV\n",
    "fileName=\"AMZN.csv\"#input(\"please put file name \")\n",
    "df=pd.read_csv(fileName,header=0)\n",
    "\n",
    "#Select some columns\n",
    "df[['Date', 'Open']]\n",
    "# add calculated col Candle stick \n",
    "df['Candle'] = df.Close - df.Open\n",
    "df['Ch%']=(df.Candle/df.Open)*100\n",
    "#Highs \n",
    "df['H%']=((df.High-df.Open)/df.Open)*100\n",
    "\n",
    "#lows\n",
    "df['L%']=((df.Open-df.Low)/df.Open)*100\n",
    "\n",
    "#High - low value \n",
    "df['HL']=df.High-df.Low\n",
    "df['HLCH%']=(df.HL/df.Open)*100\n",
    "\n",
    "#Low to close \n",
    "df['LtC']=df.Close-df.Low\n",
    "df['LtC%']=(df.LtC/df.Open)*100\n",
    "\n",
    "# Converte date col to date type then get day name by date value \n",
    "df['Date'] = pd.to_datetime(df['Date'])\n",
    "df['Day'] = df['Date'].dt.day_name()\n",
    "#Calculate mean , median \n",
    "\n",
    "# apply up trend if Candle is postive other is negative \n",
    "df['UPTrend'] = np.where(df['Candle']>0, True, False)\n",
    "FilteredDf= df[['Date','Open','Candle','Ch%','H%','L%','HL','HLCH%','LtC%','Day','UPTrend']]\n",
    "uptrend= FilteredDf.loc[df['UPTrend'] == True]\n",
    "downtrend= FilteredDf.loc[df['UPTrend'] == False]\n",
    "\n",
    "#Pivot Table only Important informtaion\n",
    "table = pd.pivot_table(FilteredDf, values=['Ch%','H%','L%','HLCH%','LtC%'], index=['Day','UPTrend'],\n",
    "                    aggfunc={'Ch%': [max,min,np.mean,np.median],\n",
    "                            'H%': [max,min,np.mean,np.median],\n",
    "                            'L%': [max,min,np.mean,np.median],\n",
    "                            'HLCH%':[max,min,np.mean,np.median],\n",
    "                            'LtC%':[max,min,np.mean,np.median]})\n",
    "df['Date'].iloc[0]\n",
    "print(\"Data from :\")\n",
    "print(df['Date'].iloc[0])\n",
    "print(\"Data to :\")\n",
    "print(df['Date'].iloc[-1])\n",
    "\n",
    "FilteredDf['L%'].mode()"
   ]
  },
  {
   "cell_type": "code",
   "execution_count": null,
   "metadata": {
    "scrolled": true
   },
   "outputs": [],
   "source": [
    "#Days\n",
    "\n",
    "Monday=FilteredDf.loc[df['Day'] == 'Monday']\n",
    "Tuesday=FilteredDf.loc[df['Day'] == 'Tuesday']\n",
    "Wednesday=FilteredDf.loc[df['Day'] == 'Wednesday']\n",
    "Thursday=FilteredDf.loc[df['Day'] == 'Thursday']\n",
    "Friday=FilteredDf.loc[df['Day'] == 'Friday']\n",
    "\n",
    "#TimeFrame\n",
    "#Spicific Date \n",
    "Mar15=df.loc[df['Date']>='2021-03-15']\n",
    "\n",
    "#last 5 days \n",
    "LastW=df.set_index(\"Date\").last(\"1W\")\n",
    "\n",
    "#Month\n",
    "Last1M=df.set_index(\"Date\").last(\"1M\")\n",
    "\n",
    "#6month\n",
    "Last6M=df.set_index(\"Date\").last(\"6M\")\n",
    "\n",
    "#Year Start\n",
    "thisY=df.set_index(\"Date\").last(\"1Y\")\n"
   ]
  },
  {
   "cell_type": "code",
   "execution_count": null,
   "metadata": {
    "scrolled": true
   },
   "outputs": [],
   "source": [
    "#Draw\n",
    "\n"
   ]
  },
  {
   "cell_type": "markdown",
   "metadata": {},
   "source": []
  },
  {
   "cell_type": "code",
   "execution_count": null,
   "metadata": {},
   "outputs": [],
   "source": [
    "table = pd.pivot_table(Last6M, values=['Ch%','H%','L%','HLCH%','LtC%'], index=['Day','UPTrend'],\n",
    "                    aggfunc={'Ch%': [min,max,np.mean,np.median],\n",
    "                            'H%': [min,max,np.mean,np.median],\n",
    "                            'L%': [min,max,np.mean,np.median],\n",
    "                            'HLCH%':[min,max,np.mean,np.median],\n",
    "                            'LtC%':[min,max,np.mean,np.median]})\n",
    "table"
   ]
  },
  {
   "cell_type": "code",
   "execution_count": null,
   "metadata": {},
   "outputs": [],
   "source": [
    "Last6M.describe()\n",
    "#Last6M[['Open']].mode()"
   ]
  },
  {
   "cell_type": "code",
   "execution_count": null,
   "metadata": {},
   "outputs": [],
   "source": [
    "Described=Last6M.loc[Last6M['UPTrend'] == True].loc[Last6M['Day'] == 'Friday' ].describe()\n"
   ]
  },
  {
   "cell_type": "code",
   "execution_count": null,
   "metadata": {
    "scrolled": true
   },
   "outputs": [],
   "source": [
    "import pandas as pd\n",
    "import numpy as np\n",
    "priceToday=int(input(\"Please Enter Price Today \"))\n",
    "print('Open Price= ',priceToday)\n",
    "print('When Trend Up')\n",
    "print('#High')\n",
    "\n",
    "print('Max : ',int(int(priceToday)*((Described['H%'].iloc[7]/100)+1)))\n",
    "print('Mid : ',int(int(priceToday)*((Described['H%'].iloc[5]/100)+1)))\n",
    "print('Min: ' ,int(int(priceToday)*((Described['H%'].iloc[3]/100)+1)))\n",
    "\n",
    "print('#Low')\n",
    "print('Min: ' ,int(int(priceToday)*((Described['L%'].iloc[7]/100)+1)))\n",
    "print('Mid : ',int(int(priceToday)*((Described['L%'].iloc[5]/100)+1)) )\n",
    "print('Max : ', int(int(priceToday)*((Described['L%'].iloc[3]/100)+1)))\n",
    "\n",
    "print('#################################################')\n",
    "\n",
    "print('#Low')\n",
    "print('Min: ' ,int(int(priceToday)*((Described['L%'].iloc[7]/100)+1)))\n",
    "print('Mid : ',int(int(priceToday)*((Described['L%'].iloc[5]/100)+1)) )\n",
    "print('Max : ', int(int(priceToday)*((Described['L%'].iloc[3]/100)+1)))"
   ]
  },
  {
   "cell_type": "code",
   "execution_count": null,
   "metadata": {
    "scrolled": true
   },
   "outputs": [],
   "source": [
    "display(df)"
   ]
  },
  {
   "cell_type": "code",
   "execution_count": null,
   "metadata": {},
   "outputs": [],
   "source": [
    "\n",
    "sns.relplot(x=\"H%\", y=\"Date\", data=Last6M);\n",
    ".describe()\n"
   ]
  },
  {
   "cell_type": "code",
   "execution_count": null,
   "metadata": {},
   "outputs": [],
   "source": [
    "import pandas as pd\n",
    "import numpy as np\n",
    "priceToday=int(input(\"Please Enter Price Today \"))\n",
    "print('Open Price= ',priceToday)\n",
    "print('When Trend Up')\n",
    "print('#High')\n",
    "\n",
    "print('Max : ',int(int(priceToday)*((Described['H%'].iloc[7]/100)+1)))\n",
    "print('Mid : ',int(int(priceToday)*((Described['H%'].iloc[5]/100)+1)))\n",
    "print('Min: ' ,int(int(priceToday)*((Described['H%'].iloc[3]/100)+1)))\n",
    "\n",
    "print('#Low')\n",
    "print('Min: ' ,int(int(priceToday)*((Described['L%'].iloc[7]/100)+1)))\n",
    "print('Mid : ',int(int(priceToday)*((Described['L%'].iloc[5]/100)+1)) )\n",
    "print('Max : ', int(int(priceToday)*((Described['L%'].iloc[3]/100)+1)))\n",
    "\n",
    "print('#################################################')\n",
    "\n",
    "print('#Low')\n",
    "print('Min: ' ,int(int(priceToday)*((Described['L%'].iloc[7]/100)+1)))\n",
    "print('Mid : ',int(int(priceToday)*((Described['L%'].iloc[5]/100)+1)) )\n",
    "print('Max : ', int(int(priceToday)*((Described['L%'].iloc[3]/100)+1)))"
   ]
  },
  {
   "cell_type": "code",
   "execution_count": null,
   "metadata": {},
   "outputs": [],
   "source": []
  }
 ],
 "metadata": {
  "kernelspec": {
   "display_name": "Python 3",
   "language": "python",
   "name": "python3"
  },
  "language_info": {
   "codemirror_mode": {
    "name": "ipython",
    "version": 3
   },
   "file_extension": ".py",
   "mimetype": "text/x-python",
   "name": "python",
   "nbconvert_exporter": "python",
   "pygments_lexer": "ipython3",
   "version": "3.9.1"
  }
 },
 "nbformat": 4,
 "nbformat_minor": 4
}
