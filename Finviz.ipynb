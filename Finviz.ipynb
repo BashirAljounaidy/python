{
 "cells": [
  {
   "cell_type": "code",
   "execution_count": 33,
   "metadata": {},
   "outputs": [
    {
     "name": "stdin",
     "output_type": "stream",
     "text": [
      "Please Enter Company Symbol :  F\n"
     ]
    },
    {
     "name": "stdout",
     "output_type": "stream",
     "text": [
      "https://www.zacks.com/zer/report/F\n",
      "https://www.zacks.com/stock/quote/F?q=F\n",
      "https://finviz.com/quote.ashx?t=F\n"
     ]
    },
    {
     "name": "stdin",
     "output_type": "stream",
     "text": [
      "Action ? NoAction Buy Hold Sell :  f\n",
      "Any Notes ?  :  f\n"
     ]
    },
    {
     "ename": "IndexError",
     "evalue": "list index out of range",
     "output_type": "error",
     "traceback": [
      "\u001b[0;31m---------------------------------------------------------------------------\u001b[0m",
      "\u001b[0;31mIndexError\u001b[0m                                Traceback (most recent call last)",
      "\u001b[0;32m<ipython-input-33-31c7dd9a794b>\u001b[0m in \u001b[0;36m<module>\u001b[0;34m\u001b[0m\n\u001b[1;32m     23\u001b[0m \u001b[0mpage1\u001b[0m \u001b[0;34m=\u001b[0m \u001b[0mrequests\u001b[0m\u001b[0;34m.\u001b[0m\u001b[0mget\u001b[0m\u001b[0;34m(\u001b[0m\u001b[0murl\u001b[0m\u001b[0;34m,\u001b[0m\u001b[0mheaders\u001b[0m\u001b[0;34m=\u001b[0m\u001b[0;34m{\u001b[0m\u001b[0;34m'User-agent'\u001b[0m\u001b[0;34m:\u001b[0m \u001b[0;34m'Mozilla/5.0'\u001b[0m\u001b[0;34m}\u001b[0m\u001b[0;34m)\u001b[0m\u001b[0;34m\u001b[0m\u001b[0;34m\u001b[0m\u001b[0m\n\u001b[1;32m     24\u001b[0m \u001b[0mcontent1\u001b[0m \u001b[0;34m=\u001b[0m \u001b[0mBS\u001b[0m\u001b[0;34m(\u001b[0m\u001b[0mpage1\u001b[0m\u001b[0;34m.\u001b[0m\u001b[0mcontent\u001b[0m\u001b[0;34m,\u001b[0m \u001b[0;34m'html.parser'\u001b[0m\u001b[0;34m)\u001b[0m\u001b[0;34m.\u001b[0m\u001b[0mfind_all\u001b[0m\u001b[0;34m(\u001b[0m\u001b[0;34m'div'\u001b[0m\u001b[0;34m,\u001b[0m \u001b[0mattrs\u001b[0m\u001b[0;34m=\u001b[0m\u001b[0;34m{\u001b[0m\u001b[0;34m'class'\u001b[0m\u001b[0;34m:\u001b[0m\u001b[0;34m'row symbol-data'\u001b[0m\u001b[0;34m}\u001b[0m\u001b[0;34m)\u001b[0m\u001b[0;34m\u001b[0m\u001b[0;34m\u001b[0m\u001b[0m\n\u001b[0;32m---> 25\u001b[0;31m \u001b[0mImpV\u001b[0m\u001b[0;34m=\u001b[0m\u001b[0mcontent1\u001b[0m\u001b[0;34m[\u001b[0m\u001b[0;36m1\u001b[0m\u001b[0;34m]\u001b[0m\u001b[0;34m.\u001b[0m\u001b[0mget_text\u001b[0m\u001b[0;34m(\u001b[0m\u001b[0;34m)\u001b[0m\u001b[0;34m.\u001b[0m\u001b[0msplit\u001b[0m\u001b[0;34m(\u001b[0m\u001b[0;34m' '\u001b[0m\u001b[0;34m)\u001b[0m\u001b[0;34m[\u001b[0m\u001b[0;36m8\u001b[0m\u001b[0;34m]\u001b[0m\u001b[0;34m\u001b[0m\u001b[0;34m\u001b[0m\u001b[0m\n\u001b[0m\u001b[1;32m     26\u001b[0m \u001b[0;31m#db Connections\u001b[0m\u001b[0;34m\u001b[0m\u001b[0;34m\u001b[0m\u001b[0;34m\u001b[0m\u001b[0m\n\u001b[1;32m     27\u001b[0m \u001b[0mstock\u001b[0m \u001b[0;34m=\u001b[0m \u001b[0mfinviz\u001b[0m\u001b[0;34m.\u001b[0m\u001b[0mget_stock\u001b[0m\u001b[0;34m(\u001b[0m\u001b[0mticker\u001b[0m\u001b[0;34m)\u001b[0m\u001b[0;34m\u001b[0m\u001b[0;34m\u001b[0m\u001b[0m\n",
      "\u001b[0;31mIndexError\u001b[0m: list index out of range"
     ]
    }
   ],
   "source": [
    "import finviz\n",
    "import sqlite3\n",
    "import pandas as pd\n",
    "import requests\n",
    "from bs4 import BeautifulSoup as BS\n",
    "\n",
    "#inputs \n",
    "db='data.db'\n",
    "ticker = input(\"Please Enter Company Symbol : \").upper()\n",
    "print(\"https://www.zacks.com/zer/report/\"+ticker)\n",
    "print(\"https://www.zacks.com/stock/quote/\"+ticker+\"?q=\"+ticker)\n",
    "print(\"https://finviz.com/quote.ashx?t=\"+ticker)\n",
    "OPINION =input(\"Action ? NoAction Buy Hold Sell : \")\n",
    "Notes = input(\"Any Notes ?  : \")\n",
    "\n",
    "#BeautifulSoup\n",
    "url='https://www.zacks.com/stock/quote/'+ticker\n",
    "page = requests.get(url,headers={'User-agent': 'Mozilla/5.0'})\n",
    "content = BS(page.content, 'html.parser').find_all('p', attrs={'class':'rank_view'})\n",
    "Zacks = content[0].get_text().split('f')[0].strip().strip(' o')\n",
    "IRank = content[2].get_text().split('(')[0].strip() \n",
    "r=content[1].get_text().replace('\\xa0',':').strip().split(' ')\n",
    "\n",
    "#db Connections\n",
    "stock = finviz.get_stock(ticker)\n",
    "opinion= dict(V=r[0],G=r[2],M=r[4],VGM=r[6],Zacks=Zacks,\n",
    "              IRank=IRank,OPINION=OPINION,Notes=Notes,Symbol=ticker)\n",
    "stock.update(opinion)\n",
    "conn = sqlite3.connect(db)\n",
    "tablename='CompanyList'\n",
    "keys = '],['.join(stock.keys())\n",
    "question_marks = ','.join(list('?'*len(stock)))\n",
    "values = tuple(stock.values())\n",
    "cmd=\"INSERT INTO \"+tablename+\" ([\"+keys+\"]) VALUES (\"+question_marks+\")\"\n",
    "conn.execute(cmd, values)\n",
    "conn.commit()\n",
    "conn.close()\n",
    "\n",
    "# Read sqlite query results into a pandas DataFrame\n",
    "con = sqlite3.connect(db)\n",
    "queryStr=\"SELECT * FROM CompanyList Where Symbol = '\"+ticker+\"'\"\n",
    "headerStr=\"SELECT Date FROM CompanyList Where Symbol = '\"+ticker+\"'\"\n",
    "\n",
    "print(\"\\n You are watching \"+stock['Company'])\n",
    "df = pd.read_sql_query(queryStr, con)\n",
    "\n",
    "# Verify that result of SQL query is stored in the dataframe\n",
    "df.index = pd.read_sql_query(headerStr, con)\n",
    "display(df.transpose().head(23))\n",
    "con.close()"
   ]
  },
  {
   "cell_type": "code",
   "execution_count": 29,
   "metadata": {},
   "outputs": [
    {
     "data": {
      "text/plain": [
       "'Ford Motor Company'"
      ]
     },
     "execution_count": 29,
     "metadata": {},
     "output_type": "execute_result"
    }
   ],
   "source": [
    "stock['Company']"
   ]
  },
  {
   "cell_type": "code",
   "execution_count": 85,
   "metadata": {},
   "outputs": [
    {
     "data": {
      "text/plain": [
       "'5-Strong Sell'"
      ]
     },
     "execution_count": 85,
     "metadata": {},
     "output_type": "execute_result"
    }
   ],
   "source": [
    "content[0].get_text().split('f')[0].strip().strip(' o')\n",
    "Zacks = content[0].get_text().split('f')[0].strip().strip(' o')\n",
    "IRank = content[2].get_text().split('(')[0].strip() \n",
    "r=content[1].get_text().replace('\\xa0',':').strip().split(' ')\n"
   ]
  },
  {
   "cell_type": "code",
   "execution_count": 16,
   "metadata": {},
   "outputs": [
    {
     "name": "stdin",
     "output_type": "stream",
     "text": [
      "Please Enter Company Symbol :  F\n"
     ]
    }
   ],
   "source": [
    "\n",
    "ticker = input(\"Please Enter Company Symbol : \").upper()\n",
    "#BeautifulSoup\n",
    "url='https://www.barchart.com/stocks/quotes/'+ticker\n",
    "page = requests.get(url,headers={'User-agent': 'Mozilla/5.0'})\n",
    "content = BS(page.content, 'html.parser').find_all('div', attrs={'class':'row symbol-data'})\n"
   ]
  },
  {
   "cell_type": "code",
   "execution_count": 30,
   "metadata": {},
   "outputs": [
    {
     "data": {
      "text/plain": [
       "'50.66%'"
      ]
     },
     "execution_count": 30,
     "metadata": {},
     "output_type": "execute_result"
    }
   ],
   "source": [
    "content[1].get_text().split(' ')[8]"
   ]
  },
  {
   "cell_type": "code",
   "execution_count": null,
   "metadata": {},
   "outputs": [],
   "source": []
  }
 ],
 "metadata": {
  "kernelspec": {
   "display_name": "Python 3",
   "language": "python",
   "name": "python3"
  },
  "language_info": {
   "codemirror_mode": {
    "name": "ipython",
    "version": 3
   },
   "file_extension": ".py",
   "mimetype": "text/x-python",
   "name": "python",
   "nbconvert_exporter": "python",
   "pygments_lexer": "ipython3",
   "version": "3.8.10"
  }
 },
 "nbformat": 4,
 "nbformat_minor": 4
}
