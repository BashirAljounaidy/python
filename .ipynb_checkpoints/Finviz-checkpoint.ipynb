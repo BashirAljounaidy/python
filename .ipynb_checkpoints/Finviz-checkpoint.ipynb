{
 "cells": [
  {
   "cell_type": "code",
   "execution_count": null,
   "metadata": {},
   "outputs": [],
   "source": [
    "import finviz\n",
    "import sqlite3\n",
    "import pandas as pd\n",
    "ticker = input(\"Please Enter Company Symbol : \")\n",
    "\n",
    "print(\"Let it Loading \\nhttps://www.zacks.com/zer/report/\"+ticker)\n",
    "\n",
    "print(\"Take a Look until Loading \\nhttps://www.zacks.com/stock/quote/\"+ticker+\"?q=\"+ticker)\n",
    "\n",
    "print(\"Finviz : \\nhttps://finviz.com/quote.ashx?t=\"+ticker)\n",
    "\n",
    "Zacks = input(\"Zakcs Rank : \")\n",
    "I_Rank = input(\"Zakcs Industry Rank : \")\n",
    "S_Rank =input(\"Zakcs Sector Rank : \")\n",
    "OPINION =input(\"What is you Opinion : \")\n",
    "Notes = input(\"Any Notes ?  : \")\n",
    "if ticker == \"\":\n",
    "    print('Please Enter a Vaild Symbol')\n",
    "    \n",
    "\n",
    "else:\n",
    "    stock = finviz.get_stock(ticker)\n",
    "    conn = sqlite3.connect('work.db')\n",
    "    conn.execute(\"INSERT INTO CompanyList ([Symbol],[Price],[Target Price],[Prev Close],[Beta],[Volatility],[P/E],[Forward P/E],[PEG],[EPS this Y],[EPS next Y],[P/B],[P/FCF],[Market Cap],[Income],[Sales],[Dividend %],[Volume],[Oper. Margin],[Payout],[RSI (14)],[Industry],[Sector],[Zacks],[I.Rank],[S.Rank],[OPINION],[Notes]) VALUES  (?,?,?,?,?,?,?,?,?,?,?,?,?,?,?,?,?,?,?,?,?,?,?,?,?,?,?,?)\",\n",
    "                 [ticker, stock[\"Price\"], stock[\"Target Price\"], stock[\"Prev Close\"], stock[\"Beta\"], stock[\"Volatility\"], stock[\"P/E\"], stock[\"Forward P/E\"], stock[\"PEG\"], stock[\"EPS this Y\"], stock[\"EPS next Y\"], stock[\"P/B\"], stock[\"P/FCF\"], stock[\"Market Cap\"], stock[\"Sales\"], stock[\"Income\"], stock[\"Dividend %\"], stock[\"Volume\"], stock[\"Oper. Margin\"], stock[\"Payout\"], stock[\"RSI (14)\"], stock[\"Industry\"], stock[\"Sector\"], Zacks, I_Rank, S_Rank, OPINION, Notes])\n",
    "    conn.commit()\n",
    "    conn.close()\n",
    "    print(\"Have a Nice Day\")\n",
    "# Read sqlite query results into a pandas DataFrame\n",
    "con = sqlite3.connect(\"work.db\")\n",
    "queryStr=\"SELECT * FROM CompanyList Where Symbol = '\"+ticker+\"'\"\n",
    "headerStr=\"SELECT Date FROM CompanyList Where Symbol = '\"+ticker+\"'\"\n",
    "df = pd.read_sql_query(queryStr, con)\n",
    "\n",
    "# Verify that result of SQL query is stored in the dataframe\n",
    "df.index = pd.read_sql_query(headerStr, con)\n",
    "display(df.transpose())\n",
    "con.close()"
   ]
  },
  {
   "cell_type": "code",
   "execution_count": null,
   "metadata": {},
   "outputs": [],
   "source": [
    "import pandas as pd\n",
    "import sqlite3\n",
    "ticker = input(\"Please Enter Company Symbol : \")\n",
    "# Read sqlite query results into a pandas DataFrame\n",
    "con = sqlite3.connect(\"work.db\")\n",
    "queryStr=\"SELECT * FROM CompanyList Where Symbol = '\"+ticker+\"'\"\n",
    "headerStr=\"SELECT Date FROM CompanyList Where Symbol = '\"+ticker+\"'\"\n",
    "df = pd.read_sql_query(queryStr, con)\n",
    "\n",
    "# Verify that result of SQL query is stored in the dataframe\n",
    "df.index = pd.read_sql_query(headerStr, con)\n",
    "display(df.transpose())\n",
    "con.close()"
   ]
  },
  {
   "cell_type": "code",
   "execution_count": null,
   "metadata": {},
   "outputs": [],
   "source": [
    "import pandas as pd\n",
    "import sqlite3\n",
    "\n",
    "# Read sqlite query results into a pandas DataFrame\n",
    "con = sqlite3.connect(\"work.db\")\n",
    "df = pd.read_sql_query(\"SELECT * from CompanyList\", con)\n",
    "\n",
    "# Verify that result of SQL query is stored in the dataframe\n",
    "\n",
    "df.head(10)\n",
    "con.close()"
   ]
  },
  {
   "cell_type": "code",
   "execution_count": null,
   "metadata": {},
   "outputs": [],
   "source": [
    "import finviz\n",
    "import sqlite3\n",
    "ticker = input(\"Please Enter Company Symbol \")\n",
    "print(\"https://www.zacks.com/stock/quote/\"+ticker+\"?q=\"+ticker)\n",
    "Zacks = input(\"Zakcs Rank : \")\n",
    "I_Rank = input(\"Zakcs Industry Rank : \")\n",
    "S_Rank =input(\"Zakcs Sector Rank : \")\n",
    "OPINION =input(\"What is you Opinion : \")\n",
    "Notes = input(\"Any Notes ?  : \")\n",
    "if ticker == \"\":\n",
    "    print('Please Enter a Vaild Symbol')\n",
    "    \n",
    "\n",
    "else:\n",
    "    stock = finviz.get_stock(ticker)\n",
    "    conn = sqlite3.connect('work.db')\n",
    "    conn.execute(\"INSERT INTO CompanyList ([Symbol],[Price],[Target Price],[Prev Close],[Beta],[Volatility],[P/E],[Forward P/E],[PEG],[EPS this Y],[EPS next Y],[P/B],[P/FCF],[Market Cap],[Income],[Sales],[Dividend %],[Volume],[Oper. Margin],[Payout],[RSI (14)],[Industry],[Sector],[Zacks],[I.Rank],[S.Rank],[OPINION],[Notes]) VALUES  (?,?,?,?,?,?,?,?,?,?,?,?,?,?,?,?,?,?,?,?,?,?,?,?,?,?,?,?)\",\n",
    "                 [ticker,\n",
    "                  stock[\"Price\"],\n",
    "                  stock[\"Target Price\"],\n",
    "                  stock[\"Prev Close\"],\n",
    "                  stock[\"Beta\"],\n",
    "                  stock[\"Volatility\"],\n",
    "                  stock[\"P/E\"],\n",
    "                  stock[\"Forward P/E\"],\n",
    "                  stock[\"PEG\"],\n",
    "                  stock[\"EPS this Y\"],\n",
    "                  stock[\"EPS next Y\"],\n",
    "                  stock[\"P/B\"],\n",
    "                  stock[\"P/FCF\"],\n",
    "                  stock[\"Market Cap\"],\n",
    "                  stock[\"Sales\"],\n",
    "                  stock[\"Income\"],\n",
    "                  stock[\"Dividend %\"],\n",
    "                  stock[\"Volume\"],\n",
    "                  stock[\"Oper. Margin\"],\n",
    "                  stock[\"Payout\"],\n",
    "                  stock[\"RSI (14)\"],\n",
    "                  stock[\"Industry\"],\n",
    "                  stock[\"Sector\"],\n",
    "                  Zacks,\n",
    "                  I_Rank,\n",
    "                  S_Rank,\n",
    "                  OPINION,\n",
    "                  Notes\n",
    "                  ])\n",
    "    conn.commit()\n",
    "\n",
    "    conn.close()\n",
    "    print(\"Have a Nice Day\")\n",
    "\n"
   ]
  },
  {
   "cell_type": "code",
   "execution_count": null,
   "metadata": {},
   "outputs": [],
   "source": []
  },
  {
   "cell_type": "code",
   "execution_count": null,
   "metadata": {},
   "outputs": [],
   "source": []
  },
  {
   "cell_type": "code",
   "execution_count": null,
   "metadata": {},
   "outputs": [],
   "source": [
    "df"
   ]
  },
  {
   "cell_type": "code",
   "execution_count": null,
   "metadata": {},
   "outputs": [],
   "source": [
    "stock.to_sqlite(\"stock.db\")"
   ]
  },
  {
   "cell_type": "code",
   "execution_count": null,
   "metadata": {},
   "outputs": [],
   "source": [
    "row = ( stock.get('Company'),\n",
    "  stock.get('Country'))\n",
    " \n",
    "connector.execute(\"insert into DATAGERMANY values (NULL,?,?,?,?,?)\", *row)"
   ]
  },
  {
   "cell_type": "code",
   "execution_count": null,
   "metadata": {},
   "outputs": [],
   "source": [
    "row"
   ]
  },
  {
   "cell_type": "raw",
   "metadata": {},
   "source": [
    "row[0]"
   ]
  },
  {
   "cell_type": "code",
   "execution_count": null,
   "metadata": {},
   "outputs": [],
   "source": [
    "import sqlite3\n",
    "\n",
    "conn = sqlite3.connect('work.db')\n",
    "\n",
    "conn.execute(\"INSERT INTO CompanyList (Symbol,Price,Volume) VALUES (?,?,?)\", [stock[\"Company\"], stock[\"Price\"], stock[\"Avg Volume\"]])\n",
    "\n",
    "conn.commit()\n",
    "\n",
    "conn.close()"
   ]
  },
  {
   "cell_type": "code",
   "execution_count": null,
   "metadata": {},
   "outputs": [],
   "source": []
  },
  {
   "cell_type": "code",
   "execution_count": null,
   "metadata": {},
   "outputs": [],
   "source": []
  },
  {
   "cell_type": "code",
   "execution_count": null,
   "metadata": {},
   "outputs": [],
   "source": []
  },
  {
   "cell_type": "code",
   "execution_count": null,
   "metadata": {},
   "outputs": [],
   "source": [
    "import finviz\n",
    "import sqlite3\n",
    "ticker = input(\"Please Enter Company Symbol \")\n",
    "\n",
    "if ticker == \"\":\n",
    "    print('Please Enter a Vaild Symbol')\n",
    "else:\n",
    "    stock = finviz.get_stock(ticker)\n",
    "    conn = sqlite3.connect('work.db')\n",
    "    conn.execute(\"INSERT INTO CompanyList ([Symbol],[Price],[Target Price],[Prev Close],[Beta],[Volatility],[P/E],[Forward P/E],[PEG],[EPS this Y],[EPS next Y],[P/B],[P/FCF],[Market Cap],[Income],[Sales],[Dividend %],[Volume],[Oper. Margin],[Payout],[RSI (14)],[Industry],[Sector]) VALUES  (?,?,?,?,?,?,?,?,?,?,?,?,?,?,?,?,?,?,?,?,?,?,?)\",\n",
    "                 [ticker,\n",
    "                  stock[\"Price\"],\n",
    "                  stock[\"Target Price\"],\n",
    "                  stock[\"Prev Close\"],\n",
    "                  stock[\"Beta\"],\n",
    "                  stock[\"Volatility\"],\n",
    "                  stock[\"P/E\"],\n",
    "                  stock[\"Forward P/E\"],\n",
    "                  stock[\"PEG\"],\n",
    "                  stock[\"EPS this Y\"],\n",
    "                  stock[\"EPS next Y\"],\n",
    "                  stock[\"P/B\"],\n",
    "                  stock[\"P/FCF\"],\n",
    "                  stock[\"Market Cap\"],\n",
    "                  stock[\"Sales\"],\n",
    "                  stock[\"Income\"],\n",
    "                  stock[\"Dividend %\"],\n",
    "                  stock[\"Volume\"],\n",
    "                  stock[\"Oper. Margin\"],\n",
    "                  stock[\"Payout\"],\n",
    "                  stock[\"RSI (14)\"],\n",
    "                  stock[\"Industry\"],\n",
    "                  stock[\"Sector\"],\n",
    "                  ])\n",
    "    \n",
    "    Zacks = input(\"Zakcs Rank : \")\n",
    "    I.Rank = input(\"Zakcs Industry Rank : \")\n",
    "    S.Rank =input(\"Zakcs Sector Rank : \")\n",
    "    OPINION = input(\"What is you Deciction : \")\n",
    "    Notes = input(\" Any Notes ?  : \")\n",
    "    conn.execute(\"INSERT INTO CompanyList ([Zacks],[I.Rank],[S.Rank],[OPINION],[Notes]) VALUES  (?,?,?,?)\",\n",
    "                 [Zacks,I.Rank,S.Rank,OPINION,Notes])\n",
    "    conn.commit()\n",
    "\n",
    "    conn.close()\n",
    "    print(\"Have a Nice Day\")\n",
    "\n"
   ]
  },
  {
   "cell_type": "code",
   "execution_count": null,
   "metadata": {},
   "outputs": [],
   "source": []
  },
  {
   "cell_type": "code",
   "execution_count": null,
   "metadata": {},
   "outputs": [],
   "source": [
    "from finviz.screener import Screener\n",
    "stock_list = Screener(table='Performance', order='price')\n",
    "stock_list.get_charts(period='m', chart_type='c', size='l', ta='0')"
   ]
  },
  {
   "cell_type": "code",
   "execution_count": null,
   "metadata": {},
   "outputs": [],
   "source": [
    "bracketsList=()\n",
    "Required_Elements=[\n",
    "    'Opinion',\n",
    "    'Symbol',\n",
    "    'Price',\n",
    "    'Target Price',\n",
    "    'Prev Close',\n",
    "    'Beta',\n",
    "    'Volatility',\n",
    "    'P/E',\n",
    "    'Forward P/E',\n",
    "    'PEG',\n",
    "    'EPS this Y',    \n",
    "    'EPS next Y',\n",
    "    'P/B',\n",
    "    'P/FCF',\n",
    "    'Market Cap',\n",
    "    'Income',\n",
    "    'Sales',\n",
    "    'Dividend %',\n",
    "    'Volume',\n",
    "    'Oper. Margin',\n",
    "    'Payout',\n",
    "    'RSI (14)',\n",
    "    'Industry',\n",
    "    'Sector',\n",
    "    'Zacks',\n",
    "    'I.Rank',\n",
    "    'S.Rank'\n",
    "    ]\n",
    "for elements in Required_Elements:\n",
    "    bracketsList.add([elements])"
   ]
  },
  {
   "cell_type": "code",
   "execution_count": null,
   "metadata": {},
   "outputs": [],
   "source": [
    "import pandas as pd\n",
    "import sqlite3\n",
    "df.head(3).transpose()\n",
    "# Read sqlite query results into a pandas DataFrame\n",
    "con = sqlite3.connect(\"work.db\")\n",
    "df = pd.read_sql_query(\"SELECT * FROM CompanyList Where Symbol = 'VST'\", con)\n",
    "\n",
    "# Verify that result of SQL query is stored in the dataframe\n",
    "\n",
    "display(df)\n",
    "con.close()"
   ]
  },
  {
   "cell_type": "code",
   "execution_count": null,
   "metadata": {
    "scrolled": true
   },
   "outputs": [],
   "source": [
    "import pandas as pd\n",
    "import sqlite3\n",
    "ticker = input(\"Please Enter Company Symbol : \")\n",
    "# Read sqlite query results into a pandas DataFrame\n",
    "con = sqlite3.connect(\"work.db\")\n",
    "queryStr=\"SELECT * FROM CompanyList Where Symbol = '\"+ticker+\"'\"\n",
    "headerStr=\"SELECT Date FROM CompanyList Where Symbol = '\"+ticker+\"'\"\n",
    "df = pd.read_sql_query(queryStr, con)\n",
    "\n",
    "# Verify that result of SQL query is stored in the dataframe\n",
    "df.index = pd.read_sql_query(headerStr, con)\n",
    "display(df.transpose())\n",
    "con.close()"
   ]
  },
  {
   "cell_type": "code",
   "execution_count": null,
   "metadata": {},
   "outputs": [],
   "source": [
    "pip install backtrader\n"
   ]
  },
  {
   "cell_type": "code",
   "execution_count": null,
   "metadata": {},
   "outputs": [],
   "source": [
    "pip install backtrader[plotting]"
   ]
  },
  {
   "cell_type": "code",
   "execution_count": null,
   "metadata": {},
   "outputs": [],
   "source": []
  }
 ],
 "metadata": {
  "kernelspec": {
   "display_name": "Python 3",
   "language": "python",
   "name": "python3"
  },
  "language_info": {
   "codemirror_mode": {
    "name": "ipython",
    "version": 3
   },
   "file_extension": ".py",
   "mimetype": "text/x-python",
   "name": "python",
   "nbconvert_exporter": "python",
   "pygments_lexer": "ipython3",
   "version": "3.8.5"
  }
 },
 "nbformat": 4,
 "nbformat_minor": 4
}
