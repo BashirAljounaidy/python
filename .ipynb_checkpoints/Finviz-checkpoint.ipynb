{
 "cells": [
  {
   "cell_type": "code",
   "execution_count": 51,
   "metadata": {},
   "outputs": [
    {
     "name": "stdin",
     "output_type": "stream",
     "text": [
      "Please Enter Company Symbol :  HPE\n"
     ]
    },
    {
     "name": "stdout",
     "output_type": "stream",
     "text": [
      "https://www.zacks.com/zer/report/HPE\n",
      "https://www.zacks.com/stock/quote/HPE?q=HPE\n",
      "https://finviz.com/quote.ashx?t=HPE\n"
     ]
    },
    {
     "name": "stdin",
     "output_type": "stream",
     "text": [
      "Action ? NoAction Buy Hold Sell :  NoAction\n",
      "Any Notes ?  :  Not good zacks strong sell\n"
     ]
    },
    {
     "name": "stdout",
     "output_type": "stream",
     "text": [
      "\n",
      " You are watching Hewlett Packard Enterprise Company\n"
     ]
    },
    {
     "data": {
      "text/html": [
       "<div>\n",
       "<style scoped>\n",
       "    .dataframe tbody tr th:only-of-type {\n",
       "        vertical-align: middle;\n",
       "    }\n",
       "\n",
       "    .dataframe tbody tr th {\n",
       "        vertical-align: top;\n",
       "    }\n",
       "\n",
       "    .dataframe thead th {\n",
       "        text-align: right;\n",
       "    }\n",
       "</style>\n",
       "<table border=\"1\" class=\"dataframe\">\n",
       "  <thead>\n",
       "    <tr style=\"text-align: right;\">\n",
       "      <th></th>\n",
       "      <th>(2021-05-31,)</th>\n",
       "    </tr>\n",
       "  </thead>\n",
       "  <tbody>\n",
       "    <tr>\n",
       "      <th>ID</th>\n",
       "      <td>4</td>\n",
       "    </tr>\n",
       "    <tr>\n",
       "      <th>Date</th>\n",
       "      <td>2021-05-31</td>\n",
       "    </tr>\n",
       "    <tr>\n",
       "      <th>OPINION</th>\n",
       "      <td>NoAction</td>\n",
       "    </tr>\n",
       "    <tr>\n",
       "      <th>Zacks</th>\n",
       "      <td>5-Str</td>\n",
       "    </tr>\n",
       "    <tr>\n",
       "      <th>IRank</th>\n",
       "      <td>Bottom 4%</td>\n",
       "    </tr>\n",
       "    <tr>\n",
       "      <th>Price</th>\n",
       "      <td>15.96</td>\n",
       "    </tr>\n",
       "    <tr>\n",
       "      <th>Prev Close</th>\n",
       "      <td>16.34</td>\n",
       "    </tr>\n",
       "    <tr>\n",
       "      <th>Change</th>\n",
       "      <td>-2.33%</td>\n",
       "    </tr>\n",
       "    <tr>\n",
       "      <th>P/E</th>\n",
       "      <td>-</td>\n",
       "    </tr>\n",
       "    <tr>\n",
       "      <th>Forward P/E</th>\n",
       "      <td>8.30</td>\n",
       "    </tr>\n",
       "    <tr>\n",
       "      <th>P/B</th>\n",
       "      <td>1.28</td>\n",
       "    </tr>\n",
       "    <tr>\n",
       "      <th>Beta</th>\n",
       "      <td>1.25</td>\n",
       "    </tr>\n",
       "    <tr>\n",
       "      <th>Rel Volume</th>\n",
       "      <td>1.03</td>\n",
       "    </tr>\n",
       "    <tr>\n",
       "      <th>Volume</th>\n",
       "      <td>11,683,228</td>\n",
       "    </tr>\n",
       "    <tr>\n",
       "      <th>Avg Volume</th>\n",
       "      <td>11.33M</td>\n",
       "    </tr>\n",
       "    <tr>\n",
       "      <th>ATR</th>\n",
       "      <td>0.38</td>\n",
       "    </tr>\n",
       "    <tr>\n",
       "      <th>RSI (14)</th>\n",
       "      <td>47.26</td>\n",
       "    </tr>\n",
       "    <tr>\n",
       "      <th>Volatility</th>\n",
       "      <td>2.09% 2.29%</td>\n",
       "    </tr>\n",
       "    <tr>\n",
       "      <th>V</th>\n",
       "      <td>B:Value</td>\n",
       "    </tr>\n",
       "    <tr>\n",
       "      <th>G</th>\n",
       "      <td>D:Growth</td>\n",
       "    </tr>\n",
       "    <tr>\n",
       "      <th>M</th>\n",
       "      <td>A:Momentum</td>\n",
       "    </tr>\n",
       "    <tr>\n",
       "      <th>VGM</th>\n",
       "      <td>B:VGM</td>\n",
       "    </tr>\n",
       "    <tr>\n",
       "      <th>Notes</th>\n",
       "      <td>Not good zacks strong sell</td>\n",
       "    </tr>\n",
       "  </tbody>\n",
       "</table>\n",
       "</div>"
      ],
      "text/plain": [
       "                          (2021-05-31,)\n",
       "ID                                    4\n",
       "Date                         2021-05-31\n",
       "OPINION                        NoAction\n",
       "Zacks                             5-Str\n",
       "IRank                         Bottom 4%\n",
       "Price                             15.96\n",
       "Prev Close                        16.34\n",
       "Change                           -2.33%\n",
       "P/E                                   -\n",
       "Forward P/E                        8.30\n",
       "P/B                                1.28\n",
       "Beta                               1.25\n",
       "Rel Volume                         1.03\n",
       "Volume                       11,683,228\n",
       "Avg Volume                       11.33M\n",
       "ATR                                0.38\n",
       "RSI (14)                          47.26\n",
       "Volatility                  2.09% 2.29%\n",
       "V                               B:Value\n",
       "G                              D:Growth\n",
       "M                            A:Momentum\n",
       "VGM                               B:VGM\n",
       "Notes        Not good zacks strong sell"
      ]
     },
     "metadata": {},
     "output_type": "display_data"
    }
   ],
   "source": [
    "import finviz\n",
    "import sqlite3\n",
    "import pandas as pd\n",
    "import requests\n",
    "from bs4 import BeautifulSoup as BS\n",
    "\n",
    "#inputs \n",
    "db='data.db'\n",
    "ticker = input(\"Please Enter Company Symbol : \").upper()\n",
    "print(\"https://www.zacks.com/zer/report/\"+ticker)\n",
    "print(\"https://www.zacks.com/stock/quote/\"+ticker+\"?q=\"+ticker)\n",
    "print(\"https://finviz.com/quote.ashx?t=\"+ticker)\n",
    "OPINION =input(\"Action ? NoAction Buy Hold Sell : \")\n",
    "Notes = input(\"Any Notes ?  : \")\n",
    "\n",
    "#BeautifulSoup\n",
    "url='https://www.zacks.com/stock/quote/'+ticker\n",
    "page = requests.get(url,headers={'User-agent': 'Mozilla/5.0'})\n",
    "content = BS(page.content, 'html.parser').find_all('p', attrs={'class':'rank_view'})\n",
    "Zacks = content[0].get_text().split('f')[0].strip().strip(' o')\n",
    "IRank = content[2].get_text().split('(')[0].strip() \n",
    "r=content[1].get_text().replace('\\xa0',':').strip().split(' ')\n",
    "\n",
    "#db Connections\n",
    "stock = finviz.get_stock(ticker)\n",
    "opinion= dict(V=r[0],G=r[2],M=r[4],VGM=r[6],Zacks=Zacks,\n",
    "              IRank=IRank,OPINION=OPINION,Notes=Notes,Symbol=ticker)\n",
    "stock.update(opinion)\n",
    "conn = sqlite3.connect(db)\n",
    "tablename='CompanyList'\n",
    "keys = '],['.join(stock.keys())\n",
    "question_marks = ','.join(list('?'*len(stock)))\n",
    "values = tuple(stock.values())\n",
    "cmd=\"INSERT INTO \"+tablename+\" ([\"+keys+\"]) VALUES (\"+question_marks+\")\"\n",
    "conn.execute(cmd, values)\n",
    "conn.commit()\n",
    "conn.close()\n",
    "\n",
    "# Read sqlite query results into a pandas DataFrame\n",
    "con = sqlite3.connect(db)\n",
    "queryStr=\"SELECT * FROM CompanyList Where Symbol = '\"+ticker+\"'\"\n",
    "headerStr=\"SELECT Date FROM CompanyList Where Symbol = '\"+ticker+\"'\"\n",
    "\n",
    "print(\"\\n You are watching \"+stock['Company'])\n",
    "df = pd.read_sql_query(queryStr, con)\n",
    "\n",
    "# Verify that result of SQL query is stored in the dataframe\n",
    "df.index = pd.read_sql_query(headerStr, con)\n",
    "display(df.transpose().head(23))\n",
    "con.close()"
   ]
  },
  {
   "cell_type": "code",
   "execution_count": 48,
   "metadata": {},
   "outputs": [
    {
     "data": {
      "text/plain": [
       "'Apple Inc.'"
      ]
     },
     "execution_count": 48,
     "metadata": {},
     "output_type": "execute_result"
    }
   ],
   "source": [
    "stock['Company']"
   ]
  },
  {
   "cell_type": "code",
   "execution_count": 99,
   "metadata": {},
   "outputs": [
    {
     "data": {
      "text/plain": [
       "'5-Str nnass dk'"
      ]
     },
     "execution_count": 99,
     "metadata": {},
     "output_type": "execute_result"
    }
   ],
   "source": [
    "\n",
    "contenttest='''\n",
    "                       5-Str nnass dkfalks of 5'''\n",
    "contenttest.split('f')[0].strip().strip(' o')"
   ]
  },
  {
   "cell_type": "code",
   "execution_count": 85,
   "metadata": {},
   "outputs": [
    {
     "data": {
      "text/plain": [
       "'5-Strong Sell'"
      ]
     },
     "execution_count": 85,
     "metadata": {},
     "output_type": "execute_result"
    }
   ],
   "source": [
    "content[0].get_text().split('f')[0].strip().strip(' o')\n"
   ]
  },
  {
   "cell_type": "code",
   "execution_count": null,
   "metadata": {},
   "outputs": [],
   "source": []
  }
 ],
 "metadata": {
  "kernelspec": {
   "display_name": "Python 3",
   "language": "python",
   "name": "python3"
  },
  "language_info": {
   "codemirror_mode": {
    "name": "ipython",
    "version": 3
   },
   "file_extension": ".py",
   "mimetype": "text/x-python",
   "name": "python",
   "nbconvert_exporter": "python",
   "pygments_lexer": "ipython3",
   "version": "3.8.10"
  }
 },
 "nbformat": 4,
 "nbformat_minor": 4
}
