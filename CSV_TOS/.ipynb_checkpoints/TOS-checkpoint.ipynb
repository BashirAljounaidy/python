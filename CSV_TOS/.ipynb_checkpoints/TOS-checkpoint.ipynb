{
 "cells": [
  {
   "cell_type": "code",
   "execution_count": null,
   "id": "43e2fd1d-8fe3-43d0-86a2-c400367f1de1",
   "metadata": {},
   "outputs": [],
   "source": [
    "import json\n",
    "import pandas as pd\n",
    "import numpy as np\n",
    "import importlib\n",
    "from functions import Backtest \n",
    "pd.set_option('display.float_format', lambda x: '%.2f' % x)"
   ]
  },
  {
   "cell_type": "code",
   "execution_count": null,
   "id": "aa2a1878-e53a-4cfd-b22c-437f018faa2b",
   "metadata": {},
   "outputs": [],
   "source": [
    "file=input('File Name:')\n",
    "Company=Backtest(file)\n",
    "Company.report()"
   ]
  },
  {
   "cell_type": "code",
   "execution_count": null,
   "id": "cd904768-8864-4cb8-bed1-88d328e73cf4",
   "metadata": {},
   "outputs": [],
   "source": [
    "Company.range=180\n",
    "Company.save_report()"
   ]
  },
  {
   "cell_type": "code",
   "execution_count": null,
   "id": "47de5825-a324-4fc7-9a17-93b613f30ac5",
   "metadata": {},
   "outputs": [],
   "source": [
    "Company.look_up('AMZN')"
   ]
  },
  {
   "cell_type": "code",
   "execution_count": null,
   "id": "37169614-5412-4c97-b21b-576daac01def",
   "metadata": {},
   "outputs": [],
   "source": [
    "Backtest(file).show_db(0)"
   ]
  },
  {
   "cell_type": "code",
   "execution_count": 62,
   "id": "5e714098-5654-4b84-ab16-a1ba122afecf",
   "metadata": {},
   "outputs": [
    {
     "data": {
      "text/html": [
       "<div>\n",
       "<style scoped>\n",
       "    .dataframe tbody tr th:only-of-type {\n",
       "        vertical-align: middle;\n",
       "    }\n",
       "\n",
       "    .dataframe tbody tr th {\n",
       "        vertical-align: top;\n",
       "    }\n",
       "\n",
       "    .dataframe thead th {\n",
       "        text-align: right;\n",
       "    }\n",
       "</style>\n",
       "<table border=\"1\" class=\"dataframe\">\n",
       "  <thead>\n",
       "    <tr style=\"text-align: right;\">\n",
       "      <th></th>\n",
       "      <th>timeframe</th>\n",
       "      <th>range</th>\n",
       "      <th>position_size</th>\n",
       "      <th>sma</th>\n",
       "      <th>ema</th>\n",
       "      <th>total_profit</th>\n",
       "      <th>total_trades</th>\n",
       "      <th>win_trades</th>\n",
       "      <th>loss_trades</th>\n",
       "      <th>breakeven</th>\n",
       "      <th>win_avg</th>\n",
       "      <th>loss_avg</th>\n",
       "      <th>reward_risk_ratio</th>\n",
       "      <th>win_ratio</th>\n",
       "      <th>loss_ratio</th>\n",
       "      <th>expectency</th>\n",
       "      <th>max_down</th>\n",
       "      <th>max_up</th>\n",
       "    </tr>\n",
       "    <tr>\n",
       "      <th>worktime</th>\n",
       "      <th></th>\n",
       "      <th></th>\n",
       "      <th></th>\n",
       "      <th></th>\n",
       "      <th></th>\n",
       "      <th></th>\n",
       "      <th></th>\n",
       "      <th></th>\n",
       "      <th></th>\n",
       "      <th></th>\n",
       "      <th></th>\n",
       "      <th></th>\n",
       "      <th></th>\n",
       "      <th></th>\n",
       "      <th></th>\n",
       "      <th></th>\n",
       "      <th></th>\n",
       "      <th></th>\n",
       "    </tr>\n",
       "  </thead>\n",
       "  <tbody>\n",
       "    <tr>\n",
       "      <th>5</th>\n",
       "      <td>5.00</td>\n",
       "      <td>180.00</td>\n",
       "      <td>0.85</td>\n",
       "      <td>9.00</td>\n",
       "      <td>9.00</td>\n",
       "      <td>53.79</td>\n",
       "      <td>99.07</td>\n",
       "      <td>53.59</td>\n",
       "      <td>41.37</td>\n",
       "      <td>4.11</td>\n",
       "      <td>2.35</td>\n",
       "      <td>-1.48</td>\n",
       "      <td>1.67</td>\n",
       "      <td>0.54</td>\n",
       "      <td>0.42</td>\n",
       "      <td>0.54</td>\n",
       "      <td>0.95</td>\n",
       "      <td>60.08</td>\n",
       "    </tr>\n",
       "    <tr>\n",
       "      <th>10</th>\n",
       "      <td>5.00</td>\n",
       "      <td>180.00</td>\n",
       "      <td>1.00</td>\n",
       "      <td>9.00</td>\n",
       "      <td>9.00</td>\n",
       "      <td>74.24</td>\n",
       "      <td>112.64</td>\n",
       "      <td>62.43</td>\n",
       "      <td>45.71</td>\n",
       "      <td>4.50</td>\n",
       "      <td>2.37</td>\n",
       "      <td>-1.37</td>\n",
       "      <td>1.69</td>\n",
       "      <td>0.55</td>\n",
       "      <td>0.41</td>\n",
       "      <td>0.65</td>\n",
       "      <td>0.63</td>\n",
       "      <td>78.17</td>\n",
       "    </tr>\n",
       "  </tbody>\n",
       "</table>\n",
       "</div>"
      ],
      "text/plain": [
       "          timeframe  range  position_size  sma  ema  total_profit  \\\n",
       "worktime                                                            \n",
       "5              5.00 180.00           0.85 9.00 9.00         53.79   \n",
       "10             5.00 180.00           1.00 9.00 9.00         74.24   \n",
       "\n",
       "          total_trades  win_trades  loss_trades  breakeven  win_avg  loss_avg  \\\n",
       "worktime                                                                        \n",
       "5                99.07       53.59        41.37       4.11     2.35     -1.48   \n",
       "10              112.64       62.43        45.71       4.50     2.37     -1.37   \n",
       "\n",
       "          reward_risk_ratio  win_ratio  loss_ratio  expectency  max_down  \\\n",
       "worktime                                                                   \n",
       "5                      1.67       0.54        0.42        0.54      0.95   \n",
       "10                     1.69       0.55        0.41        0.65      0.63   \n",
       "\n",
       "          max_up  \n",
       "worktime          \n",
       "5          60.08  \n",
       "10         78.17  "
      ]
     },
     "execution_count": 62,
     "metadata": {},
     "output_type": "execute_result"
    }
   ],
   "source": [
    "df.groupby('worktime').mean()"
   ]
  },
  {
   "cell_type": "code",
   "execution_count": null,
   "id": "0fd48470-e900-4af0-990a-e36bdf2d6877",
   "metadata": {},
   "outputs": [],
   "source": []
  },
  {
   "cell_type": "code",
   "execution_count": null,
   "id": "6fa3423d-46c3-4ea8-b00a-70d3aa9bbdb9",
   "metadata": {},
   "outputs": [],
   "source": [
    "df=df[df['win_ratio']>0.5]\n",
    "df[df['reward_risk_ratio']>=1.85]"
   ]
  }
 ],
 "metadata": {
  "kernelspec": {
   "display_name": "Python 3",
   "language": "python",
   "name": "python3"
  },
  "language_info": {
   "codemirror_mode": {
    "name": "ipython",
    "version": 3
   },
   "file_extension": ".py",
   "mimetype": "text/x-python",
   "name": "python",
   "nbconvert_exporter": "python",
   "pygments_lexer": "ipython3",
   "version": "3.8.5"
  }
 },
 "nbformat": 4,
 "nbformat_minor": 5
}
