{
 "cells": [
  {
   "cell_type": "code",
   "execution_count": 215,
   "id": "14e23164",
   "metadata": {},
   "outputs": [
    {
     "name": "stdout",
     "output_type": "stream",
     "text": [
      "No active dtale\n"
     ]
    }
   ],
   "source": [
    "import pandas as pd\n",
    "import numpy as np\n",
    "import dtale\n",
    "import dtale.app as dtale_app\n",
    "import requests\n",
    "from pandas_datareader.data import DataReader\n",
    "from datetime import datetime\n",
    "#set pd for 2 decimal float \n",
    "pd.set_option('display.float_format', lambda x: '%.2f' % x)\n",
    "#functiion for dtale \n",
    "kill=!sudo kill -9 $(sudo lsof -t -i:40000)\n",
    "print('No active dtale')\n",
    "\n",
    "instance_lst =[]\n",
    "def create_dtale (df,name):\n",
    "    if not (name in instance_lst) :\n",
    "        dtale.show(df,name=name)\n",
    "        instance_lst.append(name)\n",
    "        dtale.instances()\n",
    "    else :\n",
    "        print('Company already exists!')\n",
    "        dtale.instances() \n",
    "\n",
    "def get_data(file):\n",
    "    df = pd.read_csv('StrategyReports_AAPL_652122.csv',sep=';',skiprows=4)\n",
    "    df['Date/Time']=pd.to_datetime(df['Date/Time'],format='%m/%d/%y, %I:%M %p')\n",
    "    df_data=df.Strategy.str.split(\"|\",expand=True).drop(labels=[0,5], axis=1)\n",
    "    df_data.columns=['Open','High','Low','Close']\n",
    "    df.drop(labels=['Id','Amount','Strategy','Side','Price','Trade P/L','P/L','Position','Unnamed: 9'],inplace=True, axis=1)\n",
    "    df=pd.concat([df_data, df], axis=1)\n",
    "    df=df.set_index(['Date/Time']).iloc[1:-2:2]\n",
    "    df=df.rename(columns={'Date/Time':'Date'})\n",
    "    return df"
   ]
  },
  {
   "cell_type": "code",
   "execution_count": 216,
   "id": "0cbc2a59",
   "metadata": {},
   "outputs": [
    {
     "name": "stdin",
     "output_type": "stream",
     "text": [
      "Please Enter Stock Symbol :  AAPL\n",
      "Please Enter file Name :  StrategyReports_AAPL_652122\n"
     ]
    },
    {
     "data": {
      "text/html": [
       "<div>\n",
       "<style scoped>\n",
       "    .dataframe tbody tr th:only-of-type {\n",
       "        vertical-align: middle;\n",
       "    }\n",
       "\n",
       "    .dataframe tbody tr th {\n",
       "        vertical-align: top;\n",
       "    }\n",
       "\n",
       "    .dataframe thead th {\n",
       "        text-align: right;\n",
       "    }\n",
       "</style>\n",
       "<table border=\"1\" class=\"dataframe\">\n",
       "  <thead>\n",
       "    <tr style=\"text-align: right;\">\n",
       "      <th></th>\n",
       "      <th>Date</th>\n",
       "      <th>Open</th>\n",
       "      <th>High</th>\n",
       "      <th>Low</th>\n",
       "      <th>Close</th>\n",
       "    </tr>\n",
       "  </thead>\n",
       "  <tbody>\n",
       "    <tr>\n",
       "      <th>0</th>\n",
       "      <td>2021-05-28 09:31:00</td>\n",
       "      <td>125.56</td>\n",
       "      <td>125.80</td>\n",
       "      <td>125.30</td>\n",
       "      <td>125.30</td>\n",
       "    </tr>\n",
       "    <tr>\n",
       "      <th>1</th>\n",
       "      <td>2021-05-28 09:32:00</td>\n",
       "      <td>125.32</td>\n",
       "      <td>125.32</td>\n",
       "      <td>124.95</td>\n",
       "      <td>125.02</td>\n",
       "    </tr>\n",
       "    <tr>\n",
       "      <th>2</th>\n",
       "      <td>2021-05-28 09:33:00</td>\n",
       "      <td>125.03</td>\n",
       "      <td>125.17</td>\n",
       "      <td>124.95</td>\n",
       "      <td>125.00</td>\n",
       "    </tr>\n",
       "    <tr>\n",
       "      <th>3</th>\n",
       "      <td>2021-05-28 09:34:00</td>\n",
       "      <td>125.00</td>\n",
       "      <td>125.05</td>\n",
       "      <td>124.74</td>\n",
       "      <td>124.77</td>\n",
       "    </tr>\n",
       "    <tr>\n",
       "      <th>4</th>\n",
       "      <td>2021-05-28 09:35:00</td>\n",
       "      <td>124.77</td>\n",
       "      <td>124.88</td>\n",
       "      <td>124.58</td>\n",
       "      <td>124.83</td>\n",
       "    </tr>\n",
       "    <tr>\n",
       "      <th>...</th>\n",
       "      <td>...</td>\n",
       "      <td>...</td>\n",
       "      <td>...</td>\n",
       "      <td>...</td>\n",
       "      <td>...</td>\n",
       "    </tr>\n",
       "    <tr>\n",
       "      <th>1944</th>\n",
       "      <td>2021-06-04 15:55:00</td>\n",
       "      <td>125.92</td>\n",
       "      <td>125.98</td>\n",
       "      <td>125.92</td>\n",
       "      <td>125.94</td>\n",
       "    </tr>\n",
       "    <tr>\n",
       "      <th>1945</th>\n",
       "      <td>2021-06-04 15:56:00</td>\n",
       "      <td>125.94</td>\n",
       "      <td>125.95</td>\n",
       "      <td>125.85</td>\n",
       "      <td>125.86</td>\n",
       "    </tr>\n",
       "    <tr>\n",
       "      <th>1946</th>\n",
       "      <td>2021-06-04 15:57:00</td>\n",
       "      <td>125.86</td>\n",
       "      <td>125.91</td>\n",
       "      <td>125.85</td>\n",
       "      <td>125.86</td>\n",
       "    </tr>\n",
       "    <tr>\n",
       "      <th>1947</th>\n",
       "      <td>2021-06-04 15:58:00</td>\n",
       "      <td>125.86</td>\n",
       "      <td>125.87</td>\n",
       "      <td>125.81</td>\n",
       "      <td>125.86</td>\n",
       "    </tr>\n",
       "    <tr>\n",
       "      <th>1948</th>\n",
       "      <td>2021-06-04 15:59:00</td>\n",
       "      <td>125.87</td>\n",
       "      <td>125.90</td>\n",
       "      <td>125.82</td>\n",
       "      <td>125.88</td>\n",
       "    </tr>\n",
       "  </tbody>\n",
       "</table>\n",
       "<p>1949 rows × 5 columns</p>\n",
       "</div>"
      ],
      "text/plain": [
       "                     Date   Open   High    Low  Close\n",
       "0     2021-05-28 09:31:00 125.56 125.80 125.30 125.30\n",
       "1     2021-05-28 09:32:00 125.32 125.32 124.95 125.02\n",
       "2     2021-05-28 09:33:00 125.03 125.17 124.95 125.00\n",
       "3     2021-05-28 09:34:00 125.00 125.05 124.74 124.77\n",
       "4     2021-05-28 09:35:00 124.77 124.88 124.58 124.83\n",
       "...                   ...    ...    ...    ...    ...\n",
       "1944  2021-06-04 15:55:00 125.92 125.98 125.92 125.94\n",
       "1945  2021-06-04 15:56:00 125.94 125.95 125.85 125.86\n",
       "1946  2021-06-04 15:57:00 125.86 125.91 125.85 125.86\n",
       "1947  2021-06-04 15:58:00 125.86 125.87 125.81 125.86\n",
       "1948  2021-06-04 15:59:00 125.87 125.90 125.82 125.88\n",
       "\n",
       "[1949 rows x 5 columns]"
      ]
     },
     "execution_count": 216,
     "metadata": {},
     "output_type": "execute_result"
    }
   ],
   "source": [
    "symbol=input('Please Enter Stock Symbol : ').upper()\n",
    "file=input('Please Enter file Name : ')\n",
    "df=get_data(file)\n",
    "df.to_csv(symbol+'.csv',index=True)\n",
    "df=pd.read_csv(symbol+'.csv')\n",
    "df.tail(1)\n",
    "df.rename(columns={'Date/Time':'Date'})"
   ]
  },
  {
   "cell_type": "code",
   "execution_count": 218,
   "id": "737ac3f2",
   "metadata": {},
   "outputs": [
    {
     "name": "stdout",
     "output_type": "stream",
     "text": [
      "To gain access to an instance object simply pass the value from 'ID' to dtale.get_instance(ID)\n",
      "\n",
      "  ID Name                                       URL\n",
      "   1 AAPL http://ip-172-31-8-226:40000/dtale/main/1\n",
      "aapl AAPL http://ip-172-31-8-226:40000/dtale/main/1\n",
      "Executing shutdown due to inactivity...\n"
     ]
    },
    {
     "name": "stderr",
     "output_type": "stream",
     "text": [
      "2021-06-05 17:35:05,161 - INFO     - Executing shutdown due to inactivity...\n"
     ]
    },
    {
     "name": "stdout",
     "output_type": "stream",
     "text": [
      "Executing shutdown...\n"
     ]
    },
    {
     "name": "stderr",
     "output_type": "stream",
     "text": [
      "2021-06-05 17:35:05,212 - INFO     - Executing shutdown...\n"
     ]
    }
   ],
   "source": [
    "#Add calulated Columns \n",
    "# add calculated col Candle stick \n",
    "df['Candle'] = df.Close - df.Open\n",
    "df['Ch%']=(df.Candle/df.Open)*100\n",
    "#Highs percent of open price \n",
    "df['H%']=((df.High-df.Open)/df.Open)*100\n",
    "\n",
    "#lows percent of open price\n",
    "df['L%']=((df.Open-df.Low)/df.Open)*100\n",
    "\n",
    "#High - low value \n",
    "df['HL']=df.High-df.Low\n",
    "df['HLCH%']=(df.HL/df.Open)*100\n",
    "\n",
    "#Low to close \n",
    "df['LtC']=df.Close-df.Low\n",
    "df['LtC%']=(df.LtC/df.Open)*100\n",
    "\n",
    "'''# Converte date col to date type then get day name by date value \n",
    "df['Date'] = pd.to_datetime(df['Date'])\n",
    "df['Day'] = df['Date'].dt.day_name()'''\n",
    "#Calculate mean , median \n",
    "\n",
    "# apply up trend if Candle is postive other is negative \n",
    "df['UPTrend'] = np.where(df['Candle']>0, True, False)\n",
    "\n",
    "#Filter unwanted column\n",
    "FilteredDf= df#[['Date','Open','Candle','Ch%','H%','L%','HL','HLCH%','LtC%','Day','UPTrend']]\n",
    "uptrend= FilteredDf.loc[df['UPTrend'] == True]\n",
    "downtrend= FilteredDf.loc[df['UPTrend'] == False]\n",
    "\n",
    "create_dtale(df=df,name=symbol)\n"
   ]
  },
  {
   "cell_type": "code",
   "execution_count": null,
   "id": "c38d9ea8",
   "metadata": {},
   "outputs": [],
   "source": []
  }
 ],
 "metadata": {
  "kernelspec": {
   "display_name": "Python 3",
   "language": "python",
   "name": "python3"
  },
  "language_info": {
   "codemirror_mode": {
    "name": "ipython",
    "version": 3
   },
   "file_extension": ".py",
   "mimetype": "text/x-python",
   "name": "python",
   "nbconvert_exporter": "python",
   "pygments_lexer": "ipython3",
   "version": "3.8.10"
  }
 },
 "nbformat": 4,
 "nbformat_minor": 5
}
