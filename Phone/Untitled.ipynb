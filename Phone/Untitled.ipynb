{
 "cells": [
  {
   "cell_type": "code",
   "execution_count": 32,
   "id": "29f402d2",
   "metadata": {},
   "outputs": [
    {
     "name": "stdout",
     "output_type": "stream",
     "text": [
      "SM340474f41b10487688f029f2a98b1168\n",
      "SM18e213dddf766d3742a2b5dda0a4824e\n",
      "SMa03f6e50788958bdc37e2b2363042373\n",
      "SM31f55aab7762737aea7f4463bdcbae5b\n",
      "SMe43ae843e87dd8fd64213ce9c3a72bf2\n",
      "SM51102550869d66a0c40c890f261309c0\n",
      "SM7ef8fbc284d652dc76a393c85bd3f918\n",
      "SMa45d5fa8c81ac21d7a545728a54395d5\n",
      "SMb2f3dcd3e2a5c62b800dd271473f9554\n",
      "SM0e72ebbf070b7812a91e8d89a2ce6561\n"
     ]
    },
    {
     "ename": "TypeError",
     "evalue": "'str' object is not callable",
     "output_type": "error",
     "traceback": [
      "\u001b[0;31m---------------------------------------------------------------------------\u001b[0m",
      "\u001b[0;31mTypeError\u001b[0m                                 Traceback (most recent call last)",
      "\u001b[0;32m<ipython-input-32-4e6d7d0e029f>\u001b[0m in \u001b[0;36m<module>\u001b[0;34m\u001b[0m\n\u001b[1;32m     13\u001b[0m \u001b[0;34m\u001b[0m\u001b[0m\n\u001b[1;32m     14\u001b[0m \u001b[0mmessage\u001b[0m \u001b[0;34m=\u001b[0m \u001b[0mclient\u001b[0m\u001b[0;34m.\u001b[0m\u001b[0mmessages\u001b[0m\u001b[0;34m(\u001b[0m\u001b[0;34m'SM18e213dddf766d3742a2b5dda0a4824e'\u001b[0m\u001b[0;34m)\u001b[0m\u001b[0;34m.\u001b[0m\u001b[0mfetch\u001b[0m\u001b[0;34m(\u001b[0m\u001b[0;34m)\u001b[0m\u001b[0;34m\u001b[0m\u001b[0;34m\u001b[0m\u001b[0m\n\u001b[0;32m---> 15\u001b[0;31m \u001b[0mmessage\u001b[0m\u001b[0;34m.\u001b[0m\u001b[0mDirection\u001b[0m\u001b[0;34m.\u001b[0m\u001b[0mINBOUND\u001b[0m\u001b[0;34m(\u001b[0m\u001b[0;34m)\u001b[0m\u001b[0;34m\u001b[0m\u001b[0;34m\u001b[0m\u001b[0m\n\u001b[0m",
      "\u001b[0;31mTypeError\u001b[0m: 'str' object is not callable"
     ]
    }
   ],
   "source": [
    "from twilio.rest import Client\n",
    "\n",
    "# Your Account SID from twilio.com/console\n",
    "account_sid = \"ACb80adeb2137c3f4f2a9a01ebeb997e36\"\n",
    "# Your Auth Token from twilio.com/console\n",
    "auth_token  = \"cb470adde962914c165ee37d43d68a06\"\n",
    "\n",
    "client = Client(account_sid, auth_token)\n",
    "messages = client.messages.list(limit=20)\n",
    "\n",
    "for record in messages:\n",
    "    print(record.sid)\n",
    "\n",
    "message = client.messages('SM18e213dddf766d3742a2b5dda0a4824e').fetch()\n",
    "message.Direction"
   ]
  },
  {
   "cell_type": "code",
   "execution_count": 6,
   "id": "89ae207d",
   "metadata": {},
   "outputs": [
    {
     "name": "stdout",
     "output_type": "stream",
     "text": [
      "+12515722611\n"
     ]
    }
   ],
   "source": [
    "from twilio.rest import Client\n",
    "client = Client(account_sid, auth_token)\n",
    "for sms in client.messages.list(12515722611):\n",
    "    print(sms.to)"
   ]
  },
  {
   "cell_type": "code",
   "execution_count": null,
   "id": "9199a59c",
   "metadata": {},
   "outputs": [],
   "source": []
  }
 ],
 "metadata": {
  "kernelspec": {
   "display_name": "Python 3",
   "language": "python",
   "name": "python3"
  },
  "language_info": {
   "codemirror_mode": {
    "name": "ipython",
    "version": 3
   },
   "file_extension": ".py",
   "mimetype": "text/x-python",
   "name": "python",
   "nbconvert_exporter": "python",
   "pygments_lexer": "ipython3",
   "version": "3.8.10"
  }
 },
 "nbformat": 4,
 "nbformat_minor": 5
}
