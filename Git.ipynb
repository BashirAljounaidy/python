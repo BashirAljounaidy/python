{
 "cells": [
  {
   "cell_type": "code",
   "execution_count": 10,
   "id": "78ab4240",
   "metadata": {},
   "outputs": [
    {
     "name": "stdout",
     "output_type": "stream",
     "text": [
      "[main 54f62d7] date +%d-%m-%y\n",
      " 1 file changed, 72 insertions(+), 12 deletions(-)\n"
     ]
    }
   ],
   "source": [
    "from datetime import datetime\n",
    "!git add .\n",
    "!git commit -m \"date +\"%d-%m-%y\"\"\n"
   ]
  },
  {
   "cell_type": "code",
   "execution_count": 11,
   "id": "752cff4f",
   "metadata": {},
   "outputs": [
    {
     "name": "stdout",
     "output_type": "stream",
     "text": [
      "\u001b[KEnumerating objects: 5, done.\n",
      "\u001b[KCounting objects: 100% (5/5), done.\n",
      "Delta compression using up to 4 threads\n",
      "\u001b[KCompressing objects: 100% (3/3), done.\n",
      "\u001b[KWriting objects: 100% (3/3), 833 bytes | 833.00 KiB/s, done.\n",
      "Total 3 (delta 2), reused 0 (delta 0)\n",
      "remote: Resolving deltas: 100% (2/2), completed with 2 local objects.\u001b[K\n",
      "To https://github.com/BashirAljounaidy/python.git\n",
      "   f1a4dfc..54f62d7  main -> main\n"
     ]
    }
   ],
   "source": [
    "!git push"
   ]
  },
  {
   "cell_type": "code",
   "execution_count": 3,
   "id": "9352602a",
   "metadata": {},
   "outputs": [
    {
     "name": "stdout",
     "output_type": "stream",
     "text": [
      "05-04-21\n"
     ]
    }
   ],
   "source": [
    "!date +\"%d-%m-%y\""
   ]
  },
  {
   "cell_type": "code",
   "execution_count": 4,
   "id": "b8a5a0a9",
   "metadata": {},
   "outputs": [
    {
     "name": "stdout",
     "output_type": "stream",
     "text": [
      "Mon 05 Apr 2021 04:08:27 PM EET\n"
     ]
    }
   ],
   "source": [
    "!date"
   ]
  },
  {
   "cell_type": "code",
   "execution_count": 7,
   "id": "d8b034ac",
   "metadata": {},
   "outputs": [
    {
     "name": "stdout",
     "output_type": "stream",
     "text": [
      "05-04-21\n"
     ]
    }
   ],
   "source": [
    "!date +\"%d-%m-%y\""
   ]
  },
  {
   "cell_type": "code",
   "execution_count": null,
   "id": "7d4ec13e",
   "metadata": {},
   "outputs": [],
   "source": []
  }
 ],
 "metadata": {
  "kernelspec": {
   "display_name": "Python 3",
   "language": "python",
   "name": "python3"
  },
  "language_info": {
   "codemirror_mode": {
    "name": "ipython",
    "version": 3
   },
   "file_extension": ".py",
   "mimetype": "text/x-python",
   "name": "python",
   "nbconvert_exporter": "python",
   "pygments_lexer": "ipython3",
   "version": "3.9.1"
  }
 },
 "nbformat": 4,
 "nbformat_minor": 5
}
