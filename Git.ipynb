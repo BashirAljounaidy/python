{
 "cells": [
  {
   "cell_type": "code",
   "execution_count": 1,
   "id": "9d6c8208",
   "metadata": {},
   "outputs": [
    {
     "name": "stdout",
     "output_type": "stream",
     "text": [
      "[main 276a8ad] Another Commit\n",
      " 10 files changed, 1002 insertions(+), 4205 deletions(-)\n",
      " delete mode 100644 .ipynb_checkpoints/CsvAnalysisV1.0-checkpoint.ipynb\n",
      " delete mode 100644 CsvAnalysisV1.0.ipynb\n",
      " create mode 100644 Saved/.ipynb_checkpoints/AAL-checkpoint.csv\n",
      " create mode 100644 Saved/AAL.csv\n",
      " create mode 100644 Saved/BA.csv\n"
     ]
    }
   ],
   "source": [
    "!git add .\n",
    "!git commit -m \"Another Commit\"\n"
   ]
  },
  {
   "cell_type": "code",
   "execution_count": null,
   "id": "2b259031",
   "metadata": {},
   "outputs": [],
   "source": []
  }
 ],
 "metadata": {
  "kernelspec": {
   "display_name": "Python 3",
   "language": "python",
   "name": "python3"
  },
  "language_info": {
   "codemirror_mode": {
    "name": "ipython",
    "version": 3
   },
   "file_extension": ".py",
   "mimetype": "text/x-python",
   "name": "python",
   "nbconvert_exporter": "python",
   "pygments_lexer": "ipython3",
   "version": "3.8.5"
  }
 },
 "nbformat": 4,
 "nbformat_minor": 5
}
