{
 "cells": [
  {
   "cell_type": "code",
   "execution_count": 1,
   "id": "7e5eea6d",
   "metadata": {},
   "outputs": [
    {
     "name": "stdout",
     "output_type": "stream",
     "text": [
      "[main f1a4dfc] Another Commit\n",
      " 1 file changed, 70 insertions(+), 2 deletions(-)\n"
     ]
    }
   ],
   "source": [
    "from datetime import datetime\n",
    "!git add .\n",
    "!git commit -m \"Commit on \"\n"
   ]
  },
  {
   "cell_type": "code",
   "execution_count": 2,
   "id": "3dfd5e25",
   "metadata": {},
   "outputs": [
    {
     "name": "stdout",
     "output_type": "stream",
     "text": [
      "\u001b[KEnumerating objects: 5, done.\n",
      "\u001b[KCounting objects: 100% (5/5), done.\n",
      "Delta compression using up to 4 threads\n",
      "\u001b[KCompressing objects: 100% (3/3), done.\n",
      "\u001b[KWriting objects: 100% (3/3), 786 bytes | 786.00 KiB/s, done.\n",
      "Total 3 (delta 1), reused 0 (delta 0)\n",
      "remote: Resolving deltas: 100% (1/1), completed with 1 local object.\u001b[K\n",
      "To https://github.com/BashirAljounaidy/python.git\n",
      "   ef4aeb5..f1a4dfc  main -> main\n"
     ]
    }
   ],
   "source": [
    "!git push"
   ]
  },
  {
   "cell_type": "code",
   "execution_count": 3,
   "id": "b4f6bf26",
   "metadata": {},
   "outputs": [
    {
     "name": "stdout",
     "output_type": "stream",
     "text": [
      "05-04-21\n"
     ]
    }
   ],
   "source": [
    "!date +\"%d-%m-%y\""
   ]
  },
  {
   "cell_type": "code",
   "execution_count": 4,
   "id": "f2d736f1",
   "metadata": {},
   "outputs": [
    {
     "name": "stdout",
     "output_type": "stream",
     "text": [
      "Mon 05 Apr 2021 04:08:27 PM EET\n"
     ]
    }
   ],
   "source": [
    "!date"
   ]
  },
  {
   "cell_type": "code",
   "execution_count": 7,
   "id": "1d0a10a8",
   "metadata": {},
   "outputs": [
    {
     "name": "stdout",
     "output_type": "stream",
     "text": [
      "05-04-21\n"
     ]
    }
   ],
   "source": [
    "!date +\"%d-%m-%y\""
   ]
  },
  {
   "cell_type": "code",
   "execution_count": null,
   "id": "148a0fc0",
   "metadata": {},
   "outputs": [],
   "source": []
  }
 ],
 "metadata": {
  "kernelspec": {
   "display_name": "Python 3",
   "language": "python",
   "name": "python3"
  },
  "language_info": {
   "codemirror_mode": {
    "name": "ipython",
    "version": 3
   },
   "file_extension": ".py",
   "mimetype": "text/x-python",
   "name": "python",
   "nbconvert_exporter": "python",
   "pygments_lexer": "ipython3",
   "version": "3.9.1"
  }
 },
 "nbformat": 4,
 "nbformat_minor": 5
}
