{
 "cells": [
  {
   "cell_type": "code",
   "execution_count": 2,
   "id": "9d6c8208",
   "metadata": {},
   "outputs": [
    {
     "name": "stdout",
     "output_type": "stream",
     "text": [
      "[main 9ab5581] Another Commit\n",
      " 17 files changed, 6879 insertions(+), 241 deletions(-)\n",
      " create mode 100644 .ipynb_checkpoints/DV0101EN-Exercise-Waffle-Charts-Word-Clouds-and-Regression-Plots-checkpoint.ipynb\n",
      " create mode 100644 DV0101EN-Exercise-Waffle-Charts-Word-Clouds-and-Regression-Plots.ipynb\n",
      " create mode 100644 Saved/AMC.csv\n",
      " create mode 100644 Saved/AMZN.csv\n",
      " create mode 100644 Saved/F.csv\n",
      " create mode 100644 Saved/FB.csv\n",
      " create mode 100644 Saved/GE.csv\n",
      " create mode 100644 Saved/GME.csv\n",
      " create mode 100644 Saved/HPQ.csv\n",
      " create mode 100644 Saved/MOS.csv\n",
      " create mode 100644 Saved/MSFT.csv\n",
      " create mode 100644 Saved/TSLA.csv\n"
     ]
    }
   ],
   "source": [
    "!git add .\n",
    "!git commit -m \"Another Commit\"\n"
   ]
  },
  {
   "cell_type": "code",
   "execution_count": null,
   "id": "2b259031",
   "metadata": {},
   "outputs": [],
   "source": []
  }
 ],
 "metadata": {
  "kernelspec": {
   "display_name": "Python 3",
   "language": "python",
   "name": "python3"
  },
  "language_info": {
   "codemirror_mode": {
    "name": "ipython",
    "version": 3
   },
   "file_extension": ".py",
   "mimetype": "text/x-python",
   "name": "python",
   "nbconvert_exporter": "python",
   "pygments_lexer": "ipython3",
   "version": "3.8.5"
  }
 },
 "nbformat": 4,
 "nbformat_minor": 5
}
