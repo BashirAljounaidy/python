{
 "cells": [
  {
   "cell_type": "code",
   "execution_count": 1,
   "id": "75d1c679",
   "metadata": {},
   "outputs": [
    {
     "name": "stdout",
     "output_type": "stream",
     "text": [
      " * Serving Flask app \"sqlite_web.sqlite_web\" (lazy loading)\n",
      " * Environment: production\n",
      "\u001b[31m   WARNING: This is a development server. Do not use it in a production deployment.\u001b[0m\n",
      "\u001b[2m   Use a production WSGI server instead.\u001b[0m\n",
      " * Debug mode: off\n",
      " * Running on http://127.0.0.1:8080/ (Press CTRL+C to quit)\n",
      "^C\n"
     ]
    }
   ],
   "source": [
    "!sqlite_web -x -H 0.0.0.0 /home/ec2-user/python/work.db"
   ]
  },
  {
   "cell_type": "code",
   "execution_count": null,
   "id": "68b5e15e",
   "metadata": {},
   "outputs": [],
   "source": [
    "import sqlite3\n",
    "import pandas as pd\n",
    "ticker = input(\"Please Enter Company Symbol : \")\n",
    "\n",
    "if ticker == \"\":\n",
    "    print('Please Enter a Vaild Symbol')\n",
    "else:\n",
    "    conn = sqlite3.connect('work.db')\n",
    "    conn.close()\n",
    "# Read sqlite query results into a pandas DataFrame\n",
    "con = sqlite3.connect(\"work.db\")\n",
    "queryStr=\"SELECT * FROM CompanyList Where Symbol = '\"+ticker+\"'\"\n",
    "headerStr=\"SELECT Date FROM CompanyList Where Symbol = '\"+ticker+\"'\"\n",
    "df = pd.read_sql_query(queryStr, con)\n",
    "\n",
    "# Verify that result of SQL query is stored in the dataframe\n",
    "df.index = pd.read_sql_query(headerStr, con)\n",
    "display(df.transpose())\n",
    "con.close()"
   ]
  },
  {
   "cell_type": "code",
   "execution_count": null,
   "id": "17cfc7f6",
   "metadata": {},
   "outputs": [],
   "source": []
  }
 ],
 "metadata": {
  "kernelspec": {
   "display_name": "Python 3",
   "language": "python",
   "name": "python3"
  },
  "language_info": {
   "codemirror_mode": {
    "name": "ipython",
    "version": 3
   },
   "file_extension": ".py",
   "mimetype": "text/x-python",
   "name": "python",
   "nbconvert_exporter": "python",
   "pygments_lexer": "ipython3",
   "version": "3.8.10"
  }
 },
 "nbformat": 4,
 "nbformat_minor": 5
}
